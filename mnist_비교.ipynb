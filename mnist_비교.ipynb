{
 "cells": [
  {
   "cell_type": "markdown",
   "metadata": {
    "colab_type": "text",
    "id": "CxCwawyQQA8Z"
   },
   "source": [
    "## MNIST 데이터 셋을 train set와 test set(5만 개, 2만 개)으로 나누어 가능한 높은 정확도 달성해 보기.(몇 가지 방법으로 시도하는 과정도 보여주면 좋음)"
   ]
  },
  {
   "cell_type": "code",
   "execution_count": 31,
   "metadata": {
    "colab": {},
    "colab_type": "code",
    "id": "jEeDBYUpKX3s"
   },
   "outputs": [],
   "source": [
    "import numpy as np\n",
    "import matplotlib\n",
    "import matplotlib.pyplot as plt\n",
    "import os\n",
    "# 난수 초기화\n",
    "np.random.seed(42)"
   ]
  },
  {
   "cell_type": "code",
   "execution_count": 32,
   "metadata": {
    "colab": {},
    "colab_type": "code",
    "id": "qHodWhB-KbEZ"
   },
   "outputs": [],
   "source": [
    "from sklearn import datasets\n",
    "\n",
    "mnist = datasets.load_digits()\n",
    "\n",
    "X, y = mnist['data'], mnist['target']\n",
    "X_train, X_test, y_train, y_test = X[:1300], X[1300:], y[:1300], y[1300:]"
   ]
  },
  {
   "cell_type": "code",
   "execution_count": 16,
   "metadata": {
    "colab": {
     "base_uri": "https://localhost:8080/",
     "height": 34
    },
    "colab_type": "code",
    "id": "iI8XVlU3Le6B",
    "outputId": "fb60726c-ab0e-4d67-d1d1-910591b97924"
   },
   "outputs": [
    {
     "data": {
      "text/plain": [
       "{'max_depth': 12, 'n_estimators': 350}"
      ]
     },
     "execution_count": 16,
     "metadata": {
      "tags": []
     },
     "output_type": "execute_result"
    }
   ],
   "source": [
    "from sklearn.ensemble import ExtraTreesClassifier, RandomForestClassifier\n",
    "from sklearn.model_selection import GridSearchCV\n",
    "\n",
    "extra_trees_clf = ExtraTreesClassifier(random_state=42)\n",
    "\n",
    "param_grid = [{'n_estimators' : [350, 400, 450],\n",
    "               'max_depth' : [8, 10, 12]}]\n",
    "#1차 : [10,20,30,40,50]  =>  {'n_estimators': 50}\n",
    "#       [8, 10, 12]  => 12\n",
    "#2차 : [50, 100, 200, 300]  =>  {'n_estimators': 350}\n",
    "#3차 : [350, 400, 450]\n",
    "grid_search2 = GridSearchCV(extra_trees_clf, param_grid, cv =5,\n",
    "                          scoring='neg_mean_squared_error',\n",
    "                          return_train_score=True)\n",
    "grid_search2.fit(X_train, y_train)\n",
    "grid_search2.best_params_"
   ]
  },
  {
   "cell_type": "code",
   "execution_count": 34,
   "metadata": {
    "colab": {
     "base_uri": "https://localhost:8080/",
     "height": 87
    },
    "colab_type": "code",
    "id": "uizd_ZWIODMx",
    "outputId": "ae62def2-eae7-421b-ae66-5d32e186ebc3"
   },
   "outputs": [
    {
     "name": "stdout",
     "output_type": "stream",
     "text": [
      "Fitting 5 folds for each of 3 candidates, totalling 15 fits\n"
     ]
    },
    {
     "name": "stderr",
     "output_type": "stream",
     "text": [
      "[Parallel(n_jobs=-1)]: Using backend LokyBackend with 2 concurrent workers.\n",
      "[Parallel(n_jobs=-1)]: Done  15 out of  15 | elapsed:    1.5s finished\n"
     ]
    },
    {
     "data": {
      "text/plain": [
       "{'n_neighbors': 3}"
      ]
     },
     "execution_count": 34,
     "metadata": {
      "tags": []
     },
     "output_type": "execute_result"
    }
   ],
   "source": [
    "from sklearn.neighbors import KNeighborsClassifier\n",
    "knn_clf = KNeighborsClassifier()\n",
    "\n",
    "param_grid = [{'n_neighbors' : [3, 4, 5]}]\n",
    "\n",
    "grid_search3 = GridSearchCV(knn_clf, param_grid, cv =5, verbose = 3, n_jobs =-1)\n",
    "grid_search3.fit(X_train, y_train)\n",
    "grid_search3.best_params_"
   ]
  },
  {
   "cell_type": "code",
   "execution_count": 35,
   "metadata": {
    "colab": {
     "base_uri": "https://localhost:8080/",
     "height": 580
    },
    "colab_type": "code",
    "id": "2vWLbMXyLC3g",
    "outputId": "675a2a14-a6b0-4d0c-cf09-6533bdafd368"
   },
   "outputs": [
    {
     "data": {
      "text/plain": [
       "VotingClassifier(estimators=[('etc',\n",
       "                              ExtraTreesClassifier(bootstrap=False,\n",
       "                                                   ccp_alpha=0.0,\n",
       "                                                   class_weight=None,\n",
       "                                                   criterion='gini',\n",
       "                                                   max_depth=12,\n",
       "                                                   max_features='auto',\n",
       "                                                   max_leaf_nodes=None,\n",
       "                                                   max_samples=None,\n",
       "                                                   min_impurity_decrease=0.0,\n",
       "                                                   min_impurity_split=None,\n",
       "                                                   min_samples_leaf=1,\n",
       "                                                   min_samples_split=2,\n",
       "                                                   min_weight_fraction_leaf=0.0,\n",
       "                                                   n_estimators=350,\n",
       "                                                   n_jobs=None, oob_score=F...\n",
       "                                                   degree=3, gamma='auto',\n",
       "                                                   kernel='poly', max_iter=-1,\n",
       "                                                   probability=False,\n",
       "                                                   random_state=None,\n",
       "                                                   shrinking=True, tol=0.001,\n",
       "                                                   verbose=False))],\n",
       "                                       verbose=False)),\n",
       "                             ('knn',\n",
       "                              KNeighborsClassifier(algorithm='auto',\n",
       "                                                   leaf_size=30,\n",
       "                                                   metric='minkowski',\n",
       "                                                   metric_params=None,\n",
       "                                                   n_jobs=-1, n_neighbors=3,\n",
       "                                                   p=2, weights='distance'))],\n",
       "                 flatten_transform=True, n_jobs=None, voting='hard',\n",
       "                 weights=None)"
      ]
     },
     "execution_count": 35,
     "metadata": {
      "tags": []
     },
     "output_type": "execute_result"
    }
   ],
   "source": [
    "from sklearn.ensemble import VotingClassifier\n",
    "from sklearn.pipeline import Pipeline\n",
    "from sklearn.preprocessing import StandardScaler\n",
    "from sklearn.svm import SVC\n",
    "\n",
    "rnd_clf = RandomForestClassifier(n_estimators =350, max_depth = 12, random_state=42)\n",
    "extra_trees_clf = ExtraTreesClassifier(n_estimators =350, max_depth = 12, random_state=42)\n",
    "knn_clf = KNeighborsClassifier(n_jobs=-1, weights='distance', n_neighbors=3)\n",
    "svc_clf =  Pipeline([(\"scaler\", StandardScaler()), \n",
    "                    (\"svc_clf\", SVC(kernel=\"poly\", degree=3, gamma='auto', C=1))\n",
    "                   ])\n",
    "\n",
    "voting_clf = VotingClassifier(\n",
    "    estimators=[('etc', extra_trees_clf), ('rf', rnd_clf),  \n",
    "                ('svc', svc_clf), ('knn', knn_clf)],voting='hard')\n",
    "voting_clf.fit(X_train, y_train)"
   ]
  },
  {
   "cell_type": "code",
   "execution_count": 37,
   "metadata": {
    "colab": {
     "base_uri": "https://localhost:8080/",
     "height": 34
    },
    "colab_type": "code",
    "id": "XKCWhZaANCev",
    "outputId": "2e415fd8-e079-44f1-8ed5-8a21512f9bed"
   },
   "outputs": [
    {
     "data": {
      "text/plain": [
       "{'max_leaf_nodes': 40}"
      ]
     },
     "execution_count": 37,
     "metadata": {
      "tags": []
     },
     "output_type": "execute_result"
    }
   ],
   "source": [
    "from sklearn.tree import DecisionTreeClassifier\n",
    "dt_clf = DecisionTreeClassifier()\n",
    "\n",
    "param_grid = [{'max_leaf_nodes' : [20, 30, 40]}]\n",
    "grid_search4 = GridSearchCV(dt_clf, param_grid, scoring='accuracy', cv = 5,  n_jobs = -1)\n",
    "grid_search4.fit(X_train, y_train)\n",
    "grid_search4.best_params_"
   ]
  },
  {
   "cell_type": "code",
   "execution_count": 38,
   "metadata": {
    "colab": {
     "base_uri": "https://localhost:8080/",
     "height": 298
    },
    "colab_type": "code",
    "id": "1LfmPQ1YLI1G",
    "outputId": "247cc30c-efa6-4246-cfcc-c017f333adf8"
   },
   "outputs": [
    {
     "data": {
      "text/plain": [
       "AdaBoostClassifier(algorithm='SAMME.R',\n",
       "                   base_estimator=DecisionTreeClassifier(ccp_alpha=0.0,\n",
       "                                                         class_weight=None,\n",
       "                                                         criterion='gini',\n",
       "                                                         max_depth=None,\n",
       "                                                         max_features=None,\n",
       "                                                         max_leaf_nodes=40,\n",
       "                                                         min_impurity_decrease=0.0,\n",
       "                                                         min_impurity_split=None,\n",
       "                                                         min_samples_leaf=1,\n",
       "                                                         min_samples_split=2,\n",
       "                                                         min_weight_fraction_leaf=0.0,\n",
       "                                                         presort='deprecated',\n",
       "                                                         random_state=None,\n",
       "                                                         splitter='best'),\n",
       "                   learning_rate=1, n_estimators=200, random_state=42)"
      ]
     },
     "execution_count": 38,
     "metadata": {
      "tags": []
     },
     "output_type": "execute_result"
    }
   ],
   "source": [
    "from sklearn.tree import DecisionTreeClassifier\n",
    "from sklearn.ensemble import AdaBoostClassifier\n",
    "ada_clf = AdaBoostClassifier(\n",
    "    DecisionTreeClassifier(max_leaf_nodes = 40), n_estimators=200,\n",
    "    algorithm=\"SAMME.R\", learning_rate=1, random_state=42)\n",
    "ada_clf.fit(X_train, y_train)"
   ]
  },
  {
   "cell_type": "code",
   "execution_count": 39,
   "metadata": {
    "colab": {
     "base_uri": "https://localhost:8080/",
     "height": 122
    },
    "colab_type": "code",
    "id": "Mlul9FXMMXyv",
    "outputId": "74570c33-3a6e-426a-a08b-ccb1297672af"
   },
   "outputs": [
    {
     "name": "stdout",
     "output_type": "stream",
     "text": [
      "ExtraTreesClassifier 0.9476861167002012\n",
      "RandomForestClassifier 0.9295774647887324\n",
      "Pipeline 0.903420523138833\n",
      "KNeighborsClassifier 0.96579476861167\n",
      "VotingClassifier 0.9496981891348089\n",
      "AdaBoostClassifier 0.9295774647887324\n"
     ]
    }
   ],
   "source": [
    "from sklearn.metrics import accuracy_score\n",
    "\n",
    "for clf in (extra_trees_clf, rnd_clf, svc_clf, knn_clf, voting_clf, ada_clf):\n",
    "    clf.fit(X_train, y_train)\n",
    "    y_pred=clf.predict(X_test)\n",
    "    print(clf.__class__.__name__,accuracy_score(y_test, y_pred))"
   ]
  },
  {
   "cell_type": "code",
   "execution_count": 41,
   "metadata": {
    "colab": {
     "base_uri": "https://localhost:8080/",
     "height": 193
    },
    "colab_type": "code",
    "id": "B8KHWWEFLLtm",
    "outputId": "9548d069-b736-40b4-a492-a0b071a5c257"
   },
   "outputs": [
    {
     "name": "stdout",
     "output_type": "stream",
     "text": [
      "[[129   0   0   0   0   0   0   0   0   0]\n",
      " [  0 126   1   0   0   0   1   0   2   2]\n",
      " [  0   4 122   1   0   0   0   0   2   0]\n",
      " [  0   0   0 129   0   0   0   0   3   0]\n",
      " [  0   1   0   0 127   0   0   1   0   1]\n",
      " [  0   0   0   0   1 125   0   0   0   5]\n",
      " [  1   0   0   0   0   0 129   0   0   0]\n",
      " [  0   0   0   0   0   0   0 127   0   2]\n",
      " [  0  14   2   2   0   0   0   0 110   0]\n",
      " [  0   3   0   5   0   1   0   4   2 115]]\n"
     ]
    }
   ],
   "source": [
    "#가장 높은 KNeighborsClassifier의 confusion matrix\n",
    "from sklearn.model_selection import cross_val_predict\n",
    "from sklearn.metrics import confusion_matrix\n",
    "y_train_pred_knn = cross_val_predict(knn_clf, X_train, y_train, cv=5)\n",
    "\n",
    "print(confusion_matrix(y_train, y_train_pred_knn))"
   ]
  },
  {
   "cell_type": "code",
   "execution_count": 13,
   "metadata": {
    "colab": {
     "base_uri": "https://localhost:8080/",
     "height": 295
    },
    "colab_type": "code",
    "id": "Pw_QedbULNzJ",
    "outputId": "1761708b-2f87-49bc-b8c2-d6a29d41144c"
   },
   "outputs": [
    {
     "data": {
      "image/png": "[encoded data removed]",
      "text/plain": [
       "<Figure size 432x288 with 1 Axes>"
      ]
     },
     "metadata": {
      "needs_background": "light",
      "tags": []
     },
     "output_type": "display_data"
    }
   ],
   "source": [
    "#가장 높은 KNeighborsClassifier의 roc 곡선\n",
    "from sklearn.metrics import roc_curve\n",
    "y_train_5 = (y_train == 5)\n",
    "y_probas_kneighbor = cross_val_predict(knn_clf, X_train, y_train_5, cv=3,\n",
    "                             method=\"predict_proba\")\n",
    "y_scores_kneighbor = y_probas_kneighbor[:, 1]\n",
    "fpr, tpr, threshold = roc_curve(y_train_5, y_scores_kneighbor)\n",
    "\n",
    "def plot_roc_curve(fpr, tpr, label=None):\n",
    "    plt.title('ROC curve')\n",
    "    plt.plot(fpr, tpr, linewidth=2, label=label)\n",
    "    plt.plot([0,1],[0,1],\"k--\")\n",
    "    plt.xlim([0,1])\n",
    "    plt.ylim([0,1])\n",
    "    plt.xlabel('False positive rate')\n",
    "    plt.ylabel('True positive rate')\n",
    "\n",
    "plot_roc_curve(fpr, tpr)\n",
    "plt.show()"
   ]
  },
  {
   "cell_type": "code",
   "execution_count": 44,
   "metadata": {
    "colab": {
     "base_uri": "https://localhost:8080/",
     "height": 295
    },
    "colab_type": "code",
    "id": "gdujgLLTLQ8b",
    "outputId": "483b985a-3c0f-40c2-c6c6-864b82544995"
   },
   "outputs": [
    {
     "data": {
      "image/png": "[encoded data removed]",
      "text/plain": [
       "<Figure size 432x288 with 1 Axes>"
      ]
     },
     "metadata": {
      "needs_background": "light",
      "tags": []
     },
     "output_type": "display_data"
    }
   ],
   "source": [
    "#기타 분류기와의 비교\n",
    "#RandomForestClassifier\n",
    "y_probas_forest = cross_val_predict(rnd_clf, X_train, y_train_5, cv=3,\n",
    "                                    method=\"predict_proba\")\n",
    "y_scores_forest = y_probas_forest[:, 1] \n",
    "fpr_forest, tpr_forest, thresholds_forest = roc_curve(y_train_5,y_scores_forest)\n",
    "\n",
    "#ExtraTreesClassifier\n",
    "y_probas_extra = cross_val_predict(extra_trees_clf, X_train, y_train_5, cv=3,\n",
    "                                    method=\"predict_proba\")\n",
    "y_scores_extra = y_probas_extra[:, 1] \n",
    "fpr_extra, tpr_extra, thresholds_extra = roc_curve(y_train_5,y_scores_extra)\n",
    "\n",
    "\n",
    "plot_roc_curve(fpr, tpr)\n",
    "plt.plot(fpr, tpr,\"g\", label=\"knn\")\n",
    "plot_roc_curve(fpr_forest, tpr_forest)\n",
    "plt.plot(fpr_forest, tpr_forest,\"b\", label=\"rnd\")\n",
    "plot_roc_curve(fpr_extra, tpr_extra)\n",
    "plt.plot(fpr_extra, tpr_extra,\"r\", label=\"extra_trees\")\n",
    "\n",
    "plt.legend(loc=\"lower right\")\n",
    "plt.show()"
   ]
  }
 ],
 "metadata": {
  "colab": {
   "collapsed_sections": [],
   "name": "mnist 간략",
   "provenance": []
  },
  "kernelspec": {
   "display_name": "Python 3",
   "language": "python",
   "name": "python3"
  },
  "language_info": {
   "codemirror_mode": {
    "name": "ipython",
    "version": 3
   },
   "file_extension": ".py",
   "mimetype": "text/x-python",
   "name": "python",
   "nbconvert_exporter": "python",
   "pygments_lexer": "ipython3",
   "version": "3.8.5"
  }
 },
 "nbformat": 4,
 "nbformat_minor": 1
}
