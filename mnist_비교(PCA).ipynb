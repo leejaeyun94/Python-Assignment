{
 "cells": [
  {
   "cell_type": "markdown",
   "metadata": {
    "colab_type": "text",
    "id": "p4CYyy0JIt1t"
   },
   "source": [
    "2. ROC 곡선 그려보기, Confusion matrix 출력\n",
    "3. PCA로 차원 줄여보고 다시 앞의 방법으로 훈련시켜 정확도 출력"
   ]
  },
  {
   "cell_type": "code",
   "execution_count": null,
   "metadata": {
    "colab": {},
    "colab_type": "code",
    "id": "yMBuQOmnCgGs"
   },
   "outputs": [],
   "source": [
    "import numpy as np\n",
    "import matplotlib\n",
    "import matplotlib.pyplot as plt\n",
    "import os\n",
    "# 난수 초기화\n",
    "np.random.seed(42)"
   ]
  },
  {
   "cell_type": "code",
   "execution_count": null,
   "metadata": {
    "colab": {},
    "colab_type": "code",
    "id": "Q5vwVBDzCnTW"
   },
   "outputs": [],
   "source": [
    "from sklearn.datasets import fetch_openml\n",
    "mnist = fetch_openml('mnist_784', version=1)\n",
    "\n",
    "X, y = mnist['data'], mnist['target']"
   ]
  },
  {
   "cell_type": "code",
   "execution_count": null,
   "metadata": {
    "colab": {},
    "colab_type": "code",
    "id": "_eE4sIzuCnN_"
   },
   "outputs": [],
   "source": [
    "from sklearn.decomposition import PCA\n",
    "\n",
    "rnd_pca = PCA(n_components=154, svd_solver=\"randomized\", random_state=42) \n",
    "X_reduced = rnd_pca.fit_transform(X)"
   ]
  },
  {
   "cell_type": "code",
   "execution_count": null,
   "metadata": {
    "colab": {},
    "colab_type": "code",
    "id": "nFtyrmh3C7X7"
   },
   "outputs": [],
   "source": [
    "X_train, X_test, y_train, y_test = X_reduced[:50000], X_reduced[50000:], y[:50000], y[50000:]"
   ]
  },
  {
   "cell_type": "code",
   "execution_count": null,
   "metadata": {
    "colab": {
     "base_uri": "https://localhost:8080/",
     "height": 34
    },
    "colab_type": "code",
    "id": "8kqnuFLrEQ-h",
    "outputId": "5d2f06a4-cf1a-4798-e544-f125d2b42e14"
   },
   "outputs": [
    {
     "data": {
      "text/plain": [
       "{'max_depth': 12, 'n_estimators': 450}"
      ]
     },
     "execution_count": 12,
     "metadata": {
      "tags": []
     },
     "output_type": "execute_result"
    }
   ],
   "source": [
    "from sklearn.ensemble import ExtraTreesClassifier, RandomForestClassifier\n",
    "from sklearn.model_selection import GridSearchCV\n",
    "\n",
    "extra_trees_clf = ExtraTreesClassifier(random_state=42)\n",
    "\n",
    "param_grid = [{'n_estimators' : [350, 400, 450],\n",
    "               'max_depth' : [8, 10, 12]}]\n",
    "#1차 : [10,20,30,40,50]  =>  {'n_estimators': 50}\n",
    "#       [8, 10, 12]  => 12\n",
    "#2차 : [50, 100, 200, 300]  =>  {'n_estimators': 350}\n",
    "#3차 : [350, 400, 450]\n",
    "grid_search2 = GridSearchCV(extra_trees_clf, param_grid, cv =5,\n",
    "                          scoring='neg_mean_squared_error',\n",
    "                          return_train_score=True)\n",
    "grid_search2.fit(X_train, y_train)\n",
    "grid_search2.best_params_"
   ]
  },
  {
   "cell_type": "code",
   "execution_count": 24,
   "metadata": {
    "colab": {
     "base_uri": "https://localhost:8080/",
     "height": 580
    },
    "colab_type": "code",
    "id": "ar8NGIYqEQ2c",
    "outputId": "d3ad9d10-9b57-4659-8356-45858c8b3329"
   },
   "outputs": [
    {
     "data": {
      "text/plain": [
       "VotingClassifier(estimators=[('etc',\n",
       "                              ExtraTreesClassifier(bootstrap=False,\n",
       "                                                   ccp_alpha=0.0,\n",
       "                                                   class_weight=None,\n",
       "                                                   criterion='gini',\n",
       "                                                   max_depth=12,\n",
       "                                                   max_features='auto',\n",
       "                                                   max_leaf_nodes=None,\n",
       "                                                   max_samples=None,\n",
       "                                                   min_impurity_decrease=0.0,\n",
       "                                                   min_impurity_split=None,\n",
       "                                                   min_samples_leaf=1,\n",
       "                                                   min_samples_split=2,\n",
       "                                                   min_weight_fraction_leaf=0.0,\n",
       "                                                   n_estimators=450,\n",
       "                                                   n_jobs=None, oob_score=F...\n",
       "                                                   degree=3, gamma='auto',\n",
       "                                                   kernel='poly', max_iter=-1,\n",
       "                                                   probability=False,\n",
       "                                                   random_state=None,\n",
       "                                                   shrinking=True, tol=0.001,\n",
       "                                                   verbose=False))],\n",
       "                                       verbose=False)),\n",
       "                             ('knn',\n",
       "                              KNeighborsClassifier(algorithm='auto',\n",
       "                                                   leaf_size=30,\n",
       "                                                   metric='minkowski',\n",
       "                                                   metric_params=None,\n",
       "                                                   n_jobs=-1, n_neighbors=4,\n",
       "                                                   p=2, weights='distance'))],\n",
       "                 flatten_transform=True, n_jobs=None, voting='hard',\n",
       "                 weights=None)"
      ]
     },
     "execution_count": 24,
     "metadata": {
      "tags": []
     },
     "output_type": "execute_result"
    }
   ],
   "source": [
    "# mnist.1에서 gridsearch를 통해 찾은 최적값 대입\n",
    "from sklearn.ensemble import ExtraTreesClassifier, RandomForestClassifier\n",
    "from sklearn.neighbors import KNeighborsClassifier\n",
    "from sklearn.ensemble import VotingClassifier\n",
    "from sklearn.pipeline import Pipeline\n",
    "from sklearn.preprocessing import StandardScaler\n",
    "from sklearn.svm import SVC\n",
    "\n",
    "rnd_clf = RandomForestClassifier(n_estimators =450, max_depth = 12, random_state=42)\n",
    "extra_trees_clf = ExtraTreesClassifier(n_estimators =450, max_depth = 12, random_state=42)\n",
    "knn_clf = KNeighborsClassifier(n_jobs=-1, weights='distance', n_neighbors=4)\n",
    "svc_clf =  Pipeline([(\"scaler\", StandardScaler()), \n",
    "                    (\"svc_clf\", SVC(kernel=\"poly\", degree=3, gamma='auto', C=1))\n",
    "                   ])\n",
    "\n",
    "voting_clf = VotingClassifier(\n",
    "    estimators=[('etc', extra_trees_clf), ('rf', rnd_clf),  \n",
    "                ('svc', svc_clf), ('knn', knn_clf)],voting='hard')\n",
    "voting_clf.fit(X_train, y_train)"
   ]
  },
  {
   "cell_type": "code",
   "execution_count": 20,
   "metadata": {
    "colab": {
     "base_uri": "https://localhost:8080/",
     "height": 298
    },
    "colab_type": "code",
    "id": "UlftvIVxEQu6",
    "outputId": "4147a470-47bb-46fa-a7a1-41e1d9e05182"
   },
   "outputs": [
    {
     "data": {
      "text/plain": [
       "AdaBoostClassifier(algorithm='SAMME.R',\n",
       "                   base_estimator=DecisionTreeClassifier(ccp_alpha=0.0,\n",
       "                                                         class_weight=None,\n",
       "                                                         criterion='gini',\n",
       "                                                         max_depth=None,\n",
       "                                                         max_features=None,\n",
       "                                                         max_leaf_nodes=40,\n",
       "                                                         min_impurity_decrease=0.0,\n",
       "                                                         min_impurity_split=None,\n",
       "                                                         min_samples_leaf=1,\n",
       "                                                         min_samples_split=2,\n",
       "                                                         min_weight_fraction_leaf=0.0,\n",
       "                                                         presort='deprecated',\n",
       "                                                         random_state=None,\n",
       "                                                         splitter='best'),\n",
       "                   learning_rate=1, n_estimators=200, random_state=42)"
      ]
     },
     "execution_count": 20,
     "metadata": {
      "tags": []
     },
     "output_type": "execute_result"
    }
   ],
   "source": [
    "# mnist.1에서 gridsearch를 통해 찾은 최적값 대입\n",
    "from sklearn.tree import DecisionTreeClassifier\n",
    "from sklearn.ensemble import AdaBoostClassifier\n",
    "ada_clf = AdaBoostClassifier(\n",
    "    DecisionTreeClassifier(max_leaf_nodes = 40), n_estimators=200,\n",
    "    algorithm=\"SAMME.R\", learning_rate=1, random_state=42)\n",
    "ada_clf.fit(X_train, y_train)"
   ]
  },
  {
   "cell_type": "code",
   "execution_count": 28,
   "metadata": {
    "colab": {
     "base_uri": "https://localhost:8080/",
     "height": 122
    },
    "colab_type": "code",
    "id": "VHSrcJChEQoJ",
    "outputId": "227f1008-a162-4f11-f6d6-72b9fc3cd20b"
   },
   "outputs": [
    {
     "name": "stdout",
     "output_type": "stream",
     "text": [
      "ExtraTreesClassifier 0.9323\n",
      "RandomForestClassifier 0.93765\n",
      "Pipeline 0.96645\n",
      "KNeighborsClassifier 0.97415\n",
      "VotingClassifier 0.95985\n",
      "AdaBoostClassifier 0.88905\n"
     ]
    }
   ],
   "source": [
    "from sklearn.metrics import accuracy_score\n",
    "\n",
    "for clf in (extra_trees_clf, rnd_clf, svc_clf, knn_clf, voting_clf, ada_clf):\n",
    "    clf.fit(X_train, y_train)\n",
    "    y_pred=clf.predict(X_test)\n",
    "    print(clf.__class__.__name__,accuracy_score(y_test, y_pred))"
   ]
  },
  {
   "cell_type": "code",
   "execution_count": 29,
   "metadata": {
    "colab": {
     "base_uri": "https://localhost:8080/",
     "height": 193
    },
    "colab_type": "code",
    "id": "ujiSAGrLE3S1",
    "outputId": "d0520b40-a8dc-4633-fae3-0d6f68bf7a2e"
   },
   "outputs": [
    {
     "name": "stdout",
     "output_type": "stream",
     "text": [
      "[[4894    3    5    0    0    4   16    2    5    3]\n",
      " [   1 5646   10    0    3    0    2   11    2    3]\n",
      " [  31   33 4779   16    8    3    9   66   17    6]\n",
      " [   8   12   36 4900    2   50    5   32   36   20]\n",
      " [   5   30    1    1 4696    0   18    8    2   98]\n",
      " [   9    6    1   45    3 4360   49    5    7   21]\n",
      " [  16   10    1    0    7   20 4894    0    3    0]\n",
      " [   3   41   14    1   12    3    0 5053    3   45]\n",
      " [  13   52   13   53   21   53   24   12 4548   53]\n",
      " [  10    4    5   20   33   10    4   54    7 4841]]\n"
     ]
    }
   ],
   "source": [
    "#KNeighborsClassifier 이용한 CONFUSION MATRIX\n",
    "from sklearn.model_selection import cross_val_predict\n",
    "from sklearn.metrics import confusion_matrix\n",
    "y_train_pred_knn = cross_val_predict(knn_clf, X_train, y_train, cv=5)\n",
    "\n",
    "print(confusion_matrix(y_train, y_train_pred_knn))"
   ]
  },
  {
   "cell_type": "code",
   "execution_count": null,
   "metadata": {
    "colab": {},
    "colab_type": "code",
    "id": "-uJYYaWJE4-I"
   },
   "outputs": [],
   "source": [
    "#KNeighborsClassifier 이용한 ROC 곡선\n",
    "from sklearn.metrics import roc_curve\n",
    "y_train_5 = (y_train == 5)\n",
    "y_probas_kneighbor = cross_val_predict(knn_clf, X_train, y_train_5, cv=3,\n",
    "                             method=\"predict_proba\")\n",
    "y_scores_kneighbor = y_probas_kneighbor[:, 1]\n",
    "fpr, tpr, threshold = roc_curve(y_train_5, y_scores_kneighbor)\n",
    "\n",
    "def plot_roc_curve(fpr, tpr, label=None):\n",
    "    plt.title('ROC curve')\n",
    "    plt.plot(fpr, tpr, linewidth=2, label=label)\n",
    "    plt.plot([0,1],[0,1],\"k--\")\n",
    "    plt.xlim([0,1])\n",
    "    plt.ylim([0,1])\n",
    "    plt.xlabel('False positive rate')\n",
    "    plt.ylabel('True positive rate')\n",
    "\n",
    "plot_roc_curve(fpr, tpr)\n",
    "plt.show()"
   ]
  },
  {
   "cell_type": "code",
   "execution_count": null,
   "metadata": {
    "colab": {},
    "colab_type": "code",
    "id": "bOIFni_NE90d"
   },
   "outputs": [],
   "source": [
    "#ROC 곡선 비교\n",
    "#RandomForestClassifier\n",
    "y_probas_forest = cross_val_predict(rnd_clf, X_train, y_train_5, cv=3,\n",
    "                                    method=\"predict_proba\")\n",
    "y_scores_forest = y_probas_forest[:, 1] \n",
    "fpr_forest, tpr_forest, thresholds_forest = roc_curve(y_train_5,y_scores_forest)\n",
    "\n",
    "#ExtraTreesClassifier\n",
    "y_probas_extra = cross_val_predict(extra_trees_clf, X_train, y_train_5, cv=3,\n",
    "                                    method=\"predict_proba\")\n",
    "y_scores_extra = y_probas_extra[:, 1] \n",
    "fpr_extra, tpr_extra, thresholds_extra = roc_curve(y_train_5,y_scores_extra)\n",
    "\n",
    "plot_roc_curve(fpr, tpr)\n",
    "plt.plot(fpr, tpr,\"g\", label=\"knn\")\n",
    "plot_roc_curve(fpr_forest, tpr_forest)\n",
    "plt.plot(fpr_forest, tpr_forest,\"b\", label=\"rnd\")\n",
    "plot_roc_curve(fpr_extra, tpr_extra)\n",
    "plt.plot(fpr_extra, tpr_extra,\"r\", label=\"extra_trees\")\n",
    "plt.legend(loc=\"lower right\")\n",
    "plt.show()"
   ]
  },
  {
   "cell_type": "markdown",
   "metadata": {
    "colab_type": "text",
    "id": "bEqvJxlVzfgb"
   },
   "source": []
  }
 ],
 "metadata": {
  "colab": {
   "collapsed_sections": [],
   "name": "mnist.2(PCA)",
   "provenance": []
  },
  "kernelspec": {
   "display_name": "Python 3",
   "language": "python",
   "name": "python3"
  },
  "language_info": {
   "codemirror_mode": {
    "name": "ipython",
    "version": 3
   },
   "file_extension": ".py",
   "mimetype": "text/x-python",
   "name": "python",
   "nbconvert_exporter": "python",
   "pygments_lexer": "ipython3",
   "version": "3.8.5"
  }
 },
 "nbformat": 4,
 "nbformat_minor": 1
}
